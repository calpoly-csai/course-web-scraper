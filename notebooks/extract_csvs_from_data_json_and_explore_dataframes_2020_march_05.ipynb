{
 "cells": [
  {
   "cell_type": "markdown",
   "metadata": {},
   "source": [
    "# imports"
   ]
  },
  {
   "cell_type": "code",
   "execution_count": 1,
   "metadata": {},
   "outputs": [],
   "source": [
    "import pandas as pd\n",
    "from glom import glom\n",
    "import json\n",
    "from pprint import pprint as pp\n",
    "import sys\n",
    "import pandas_profiling\n",
    "import os\n",
    "\n",
    "if sys.version_info[0] < 3: \n",
    "    from StringIO import StringIO\n",
    "else:\n",
    "    from io import StringIO"
   ]
  },
  {
   "cell_type": "markdown",
   "metadata": {},
   "source": [
    "# define some global variables"
   ]
  },
  {
   "cell_type": "code",
   "execution_count": 2,
   "metadata": {},
   "outputs": [],
   "source": [
    "FILENAME = os.path.join(\"..\",\"data.json\")\n",
    "DOCS_PATH = os.path.join(\"..\", \"docs\")\n",
    "INDEX_HTML_FILE_PATH =  os.path.join(DOCS_PATH, \"index.html\")"
   ]
  },
  {
   "cell_type": "markdown",
   "metadata": {},
   "source": [
    "# open the data.json"
   ]
  },
  {
   "cell_type": "code",
   "execution_count": 3,
   "metadata": {},
   "outputs": [],
   "source": [
    "try:\n",
    "    with open(FILENAME, 'r') as json_file:\n",
    "        data = json.load(json_file)\n",
    "except FileNotFoundError:\n",
    "    FILENAME = input(\"full path for data.json: \")\n",
    "    with open(FILENAME, 'r') as json_file:\n",
    "        data = json.load(json_file)"
   ]
  },
  {
   "cell_type": "markdown",
   "metadata": {},
   "source": [
    "# all the data types"
   ]
  },
  {
   "cell_type": "code",
   "execution_count": 4,
   "metadata": {},
   "outputs": [
    {
     "name": "stdout",
     "output_type": "stream",
     "text": [
      "calendar_data\n",
      "club_scraper\n",
      "course_scraper\n",
      "schedules_scraper\n",
      "location_scraper\n",
      "faculty_scraper\n"
     ]
    }
   ],
   "source": [
    "KEYS = []\n",
    "for k in data.keys():\n",
    "    KEYS.append(k)\n",
    "    print(k)"
   ]
  },
  {
   "cell_type": "markdown",
   "metadata": {},
   "source": [
    "# all the columns"
   ]
  },
  {
   "cell_type": "code",
   "execution_count": 5,
   "metadata": {},
   "outputs": [
    {
     "name": "stdout",
     "output_type": "stream",
     "text": [
      "reading... calendar_data\n",
      "reading... club_scraper\n",
      "reading... course_scraper\n",
      "reading... schedules_scraper\n",
      "reading... location_scraper\n",
      "reading... faculty_scraper\n"
     ]
    }
   ],
   "source": [
    "dataframes = {}\n",
    "\n",
    "for k in KEYS:\n",
    "    print(\"reading...\", k)\n",
    "    if data[k] == None:\n",
    "        print(f\"**************** uh oh the data[{k}] == None??\")\n",
    "        continue\n",
    "    csv_file = StringIO(data[k])\n",
    "    dataframes[k] = pd.read_csv(csv_file)"
   ]
  },
  {
   "cell_type": "code",
   "execution_count": 6,
   "metadata": {},
   "outputs": [
    {
     "data": {
      "text/plain": [
       "6"
      ]
     },
     "execution_count": 6,
     "metadata": {},
     "output_type": "execute_result"
    }
   ],
   "source": [
    "len(dataframes)"
   ]
  },
  {
   "cell_type": "code",
   "execution_count": 7,
   "metadata": {},
   "outputs": [],
   "source": [
    "calendar_data_df     = dataframes[\"calendar_data\"]\n",
    "club_scraper_df      = dataframes[\"club_scraper\"]\n",
    "course_scraper_df    = dataframes[\"course_scraper\"]\n",
    "schedules_scraper_df = dataframes[\"schedules_scraper\"]\n",
    "location_scraper_df  = dataframes[\"location_scraper\"]\n",
    "faculty_scraper_df   = dataframes[\"faculty_scraper\"]"
   ]
  },
  {
   "cell_type": "markdown",
   "metadata": {},
   "source": [
    "# All the columns"
   ]
  },
  {
   "cell_type": "code",
   "execution_count": 8,
   "metadata": {},
   "outputs": [
    {
     "name": "stdout",
     "output_type": "stream",
     "text": [
      "calendar_data_df\n",
      "\n",
      "Index(['DATE', 'DAY', 'MONTH', 'YEAR', 'EVENTS'], dtype='object')\n",
      "\n",
      "club_scraper_df\n",
      "\n",
      "Index(['CONTACT_PERSON', 'CONTACT_PHONE', 'CONTACT_EMAIL', 'ADVISOR',\n",
      "       'ADVISOR_PHONE', 'ADVISOR_EMAIL', 'BOX', 'AFFILIATION', 'TYPES',\n",
      "       'DESCRIPTION', 'CONTACT_EMAIL_2', 'NAME'],\n",
      "      dtype='object')\n",
      "\n",
      "course_scraper_df\n",
      "\n",
      "Index(['DEPARTMENT', 'COURSE_NAME', 'UNITS', 'PREREQUISITES', 'COREQUISITES',\n",
      "       'CONCURRENT', 'RECOMMENDED', 'TERMS_TYPICALLY_OFFERED', 'GE_AREAS'],\n",
      "      dtype='object')\n",
      "\n",
      "schedules_scraper_df\n",
      "\n",
      "Index(['Unnamed: 0', 'NAME', 'ALIAS', 'TITLE', 'PHONE', 'OFFICE', 'COURSE',\n",
      "       'TYPE', 'DAYS', 'START', 'END', 'LOCATION', 'DEPARTMENT'],\n",
      "      dtype='object')\n",
      "\n",
      "location_scraper_df\n",
      "\n",
      "Index(['BUILDING_NUMBER', 'NAME', 'LONGITUDE', 'LATITUDE'], dtype='object')\n",
      "\n",
      "faculty_scraper_df\n",
      "\n",
      "Index(['NAME', 'OFFICE', 'EMAIL', 'PHONE', 'RESEARCH_INTERESTS'], dtype='object')\n"
     ]
    }
   ],
   "source": [
    "print(\"calendar_data_df\")\n",
    "print()\n",
    "pp(calendar_data_df.columns)\n",
    "\n",
    "print()\n",
    "print(\"club_scraper_df\")\n",
    "print()\n",
    "pp(club_scraper_df.columns)\n",
    "\n",
    "print()\n",
    "print(\"course_scraper_df\")\n",
    "print()\n",
    "pp(course_scraper_df.columns)\n",
    "\n",
    "print()\n",
    "print(\"schedules_scraper_df\")\n",
    "print()\n",
    "pp(schedules_scraper_df.columns)\n",
    "\n",
    "print()\n",
    "print(\"location_scraper_df\")\n",
    "print()\n",
    "pp(location_scraper_df.columns)\n",
    "\n",
    "print()\n",
    "print(\"faculty_scraper_df\")\n",
    "print()\n",
    "pp(faculty_scraper_df.columns)"
   ]
  },
  {
   "cell_type": "markdown",
   "metadata": {},
   "source": [
    "# NOTE: the \"Unnamed: 0\" column of the schedules_scaper will not be there in the next version of the scraped data.json"
   ]
  },
  {
   "cell_type": "markdown",
   "metadata": {},
   "source": [
    "# preview of the data"
   ]
  },
  {
   "cell_type": "code",
   "execution_count": 9,
   "metadata": {},
   "outputs": [
    {
     "data": {
      "text/html": [
       "<div>\n",
       "<style scoped>\n",
       "    .dataframe tbody tr th:only-of-type {\n",
       "        vertical-align: middle;\n",
       "    }\n",
       "\n",
       "    .dataframe tbody tr th {\n",
       "        vertical-align: top;\n",
       "    }\n",
       "\n",
       "    .dataframe thead th {\n",
       "        text-align: right;\n",
       "    }\n",
       "</style>\n",
       "<table border=\"1\" class=\"dataframe\">\n",
       "  <thead>\n",
       "    <tr style=\"text-align: right;\">\n",
       "      <th></th>\n",
       "      <th>DATE</th>\n",
       "      <th>DAY</th>\n",
       "      <th>MONTH</th>\n",
       "      <th>YEAR</th>\n",
       "      <th>EVENTS</th>\n",
       "    </tr>\n",
       "  </thead>\n",
       "  <tbody>\n",
       "    <tr>\n",
       "      <th>0</th>\n",
       "      <td>6_25_2018</td>\n",
       "      <td>25</td>\n",
       "      <td>June</td>\n",
       "      <td>2018</td>\n",
       "      <td>['Beginning of university year', 'Beginning of...</td>\n",
       "    </tr>\n",
       "    <tr>\n",
       "      <th>1</th>\n",
       "      <td>7_4_2018</td>\n",
       "      <td>4</td>\n",
       "      <td>July</td>\n",
       "      <td>2018</td>\n",
       "      <td>['Academic holiday - Independence Day Observed']</td>\n",
       "    </tr>\n",
       "    <tr>\n",
       "      <th>2</th>\n",
       "      <td>7_9_2018</td>\n",
       "      <td>9</td>\n",
       "      <td>July</td>\n",
       "      <td>2018</td>\n",
       "      <td>['End of second week of instruction']</td>\n",
       "    </tr>\n",
       "    <tr>\n",
       "      <th>3</th>\n",
       "      <td>7_16_2018</td>\n",
       "      <td>16</td>\n",
       "      <td>July</td>\n",
       "      <td>2018</td>\n",
       "      <td>['End of third week of instruction - Census da...</td>\n",
       "    </tr>\n",
       "    <tr>\n",
       "      <th>4</th>\n",
       "      <td>8_13_2018</td>\n",
       "      <td>13</td>\n",
       "      <td>August</td>\n",
       "      <td>2018</td>\n",
       "      <td>['End of seventh week of instruction']</td>\n",
       "    </tr>\n",
       "  </tbody>\n",
       "</table>\n",
       "</div>"
      ],
      "text/plain": [
       "        DATE  DAY   MONTH  YEAR  \\\n",
       "0  6_25_2018   25    June  2018   \n",
       "1   7_4_2018    4    July  2018   \n",
       "2   7_9_2018    9    July  2018   \n",
       "3  7_16_2018   16    July  2018   \n",
       "4  8_13_2018   13  August  2018   \n",
       "\n",
       "                                              EVENTS  \n",
       "0  ['Beginning of university year', 'Beginning of...  \n",
       "1   ['Academic holiday - Independence Day Observed']  \n",
       "2              ['End of second week of instruction']  \n",
       "3  ['End of third week of instruction - Census da...  \n",
       "4             ['End of seventh week of instruction']  "
      ]
     },
     "execution_count": 9,
     "metadata": {},
     "output_type": "execute_result"
    }
   ],
   "source": [
    "calendar_data_df.head()"
   ]
  },
  {
   "cell_type": "code",
   "execution_count": 10,
   "metadata": {},
   "outputs": [
    {
     "data": {
      "text/html": [
       "<div>\n",
       "<style scoped>\n",
       "    .dataframe tbody tr th:only-of-type {\n",
       "        vertical-align: middle;\n",
       "    }\n",
       "\n",
       "    .dataframe tbody tr th {\n",
       "        vertical-align: top;\n",
       "    }\n",
       "\n",
       "    .dataframe thead th {\n",
       "        text-align: right;\n",
       "    }\n",
       "</style>\n",
       "<table border=\"1\" class=\"dataframe\">\n",
       "  <thead>\n",
       "    <tr style=\"text-align: right;\">\n",
       "      <th></th>\n",
       "      <th>CONTACT_PERSON</th>\n",
       "      <th>CONTACT_PHONE</th>\n",
       "      <th>CONTACT_EMAIL</th>\n",
       "      <th>ADVISOR</th>\n",
       "      <th>ADVISOR_PHONE</th>\n",
       "      <th>ADVISOR_EMAIL</th>\n",
       "      <th>BOX</th>\n",
       "      <th>AFFILIATION</th>\n",
       "      <th>TYPES</th>\n",
       "      <th>DESCRIPTION</th>\n",
       "      <th>CONTACT_EMAIL_2</th>\n",
       "      <th>NAME</th>\n",
       "    </tr>\n",
       "  </thead>\n",
       "  <tbody>\n",
       "    <tr>\n",
       "      <th>0</th>\n",
       "      <td>Max Wu</td>\n",
       "      <td>2.014507e+09</td>\n",
       "      <td>mdwu@calpoly.edu</td>\n",
       "      <td>Steffen Peuker</td>\n",
       "      <td>8.057561e+09</td>\n",
       "      <td>speuker@calpoly.edu</td>\n",
       "      <td>441</td>\n",
       "      <td>NaN</td>\n",
       "      <td>Professional, Special Interest</td>\n",
       "      <td>Student Chapter of the 7x24 Exchange National ...</td>\n",
       "      <td>cp7x24@gmail.com</td>\n",
       "      <td>7x24 Student Club</td>\n",
       "    </tr>\n",
       "    <tr>\n",
       "      <th>1</th>\n",
       "      <td>Max Wu</td>\n",
       "      <td>2.014507e+09</td>\n",
       "      <td>mdwu@calpoly.edu</td>\n",
       "      <td>Steffen Peuker</td>\n",
       "      <td>8.057561e+09</td>\n",
       "      <td>speuker@calpoly.edu</td>\n",
       "      <td>441</td>\n",
       "      <td>NaN</td>\n",
       "      <td>Professional, Special Interest</td>\n",
       "      <td>NaN</td>\n",
       "      <td>cp7x24@gmail.com</td>\n",
       "      <td>7x24 Student Club</td>\n",
       "    </tr>\n",
       "    <tr>\n",
       "      <th>2</th>\n",
       "      <td>Maxim Frenkel</td>\n",
       "      <td>6.503801e+09</td>\n",
       "      <td>frenkel@calpoly.edu</td>\n",
       "      <td>Sheri Boscaro</td>\n",
       "      <td>8.057563e+09</td>\n",
       "      <td>sboscaro@calpoly.edu</td>\n",
       "      <td>185</td>\n",
       "      <td>Business, College of</td>\n",
       "      <td>Professional, Academic</td>\n",
       "      <td>CPAC helps students develop professionally and...</td>\n",
       "      <td>president@polycpac.com</td>\n",
       "      <td>Accounting Club, Cal Poly</td>\n",
       "    </tr>\n",
       "    <tr>\n",
       "      <th>3</th>\n",
       "      <td>McKenzie Leeds</td>\n",
       "      <td>9.493633e+09</td>\n",
       "      <td>mleeds@calpoly.edu</td>\n",
       "      <td>Kirsten Vinther</td>\n",
       "      <td>8.057567e+09</td>\n",
       "      <td>kvinther@calpoly.edu</td>\n",
       "      <td>335</td>\n",
       "      <td>None</td>\n",
       "      <td>Special Interest</td>\n",
       "      <td>We are a mental health club, and national orga...</td>\n",
       "      <td>activemindscalpoly@gmail.com</td>\n",
       "      <td>Active Minds</td>\n",
       "    </tr>\n",
       "    <tr>\n",
       "      <th>4</th>\n",
       "      <td>Kaitlyn Lee</td>\n",
       "      <td>6.262978e+09</td>\n",
       "      <td>klee178@calpoly.edu</td>\n",
       "      <td>Kevin Ross</td>\n",
       "      <td>8.057566e+09</td>\n",
       "      <td>kjross@calpoly.edu</td>\n",
       "      <td>47</td>\n",
       "      <td>NaN</td>\n",
       "      <td>Professional</td>\n",
       "      <td>The Actuarial Society is a club, aimed towards...</td>\n",
       "      <td>actuarial-society@calpoly.edu</td>\n",
       "      <td>Actuarial Society, Cal Poly</td>\n",
       "    </tr>\n",
       "  </tbody>\n",
       "</table>\n",
       "</div>"
      ],
      "text/plain": [
       "   CONTACT_PERSON  CONTACT_PHONE        CONTACT_EMAIL          ADVISOR  \\\n",
       "0          Max Wu   2.014507e+09     mdwu@calpoly.edu   Steffen Peuker   \n",
       "1          Max Wu   2.014507e+09     mdwu@calpoly.edu   Steffen Peuker   \n",
       "2   Maxim Frenkel   6.503801e+09  frenkel@calpoly.edu    Sheri Boscaro   \n",
       "3  McKenzie Leeds   9.493633e+09   mleeds@calpoly.edu  Kirsten Vinther   \n",
       "4     Kaitlyn Lee   6.262978e+09  klee178@calpoly.edu       Kevin Ross   \n",
       "\n",
       "   ADVISOR_PHONE         ADVISOR_EMAIL  BOX           AFFILIATION  \\\n",
       "0   8.057561e+09   speuker@calpoly.edu  441                   NaN   \n",
       "1   8.057561e+09   speuker@calpoly.edu  441                   NaN   \n",
       "2   8.057563e+09  sboscaro@calpoly.edu  185  Business, College of   \n",
       "3   8.057567e+09  kvinther@calpoly.edu  335                  None   \n",
       "4   8.057566e+09    kjross@calpoly.edu   47                   NaN   \n",
       "\n",
       "                            TYPES  \\\n",
       "0  Professional, Special Interest   \n",
       "1  Professional, Special Interest   \n",
       "2          Professional, Academic   \n",
       "3                Special Interest   \n",
       "4                    Professional   \n",
       "\n",
       "                                         DESCRIPTION  \\\n",
       "0  Student Chapter of the 7x24 Exchange National ...   \n",
       "1                                                NaN   \n",
       "2  CPAC helps students develop professionally and...   \n",
       "3  We are a mental health club, and national orga...   \n",
       "4  The Actuarial Society is a club, aimed towards...   \n",
       "\n",
       "                 CONTACT_EMAIL_2                         NAME  \n",
       "0               cp7x24@gmail.com            7x24 Student Club  \n",
       "1               cp7x24@gmail.com            7x24 Student Club  \n",
       "2         president@polycpac.com    Accounting Club, Cal Poly  \n",
       "3   activemindscalpoly@gmail.com                 Active Minds  \n",
       "4  actuarial-society@calpoly.edu  Actuarial Society, Cal Poly  "
      ]
     },
     "execution_count": 10,
     "metadata": {},
     "output_type": "execute_result"
    }
   ],
   "source": [
    "club_scraper_df.head()"
   ]
  },
  {
   "cell_type": "code",
   "execution_count": 11,
   "metadata": {},
   "outputs": [
    {
     "data": {
      "text/html": [
       "<div>\n",
       "<style scoped>\n",
       "    .dataframe tbody tr th:only-of-type {\n",
       "        vertical-align: middle;\n",
       "    }\n",
       "\n",
       "    .dataframe tbody tr th {\n",
       "        vertical-align: top;\n",
       "    }\n",
       "\n",
       "    .dataframe thead th {\n",
       "        text-align: right;\n",
       "    }\n",
       "</style>\n",
       "<table border=\"1\" class=\"dataframe\">\n",
       "  <thead>\n",
       "    <tr style=\"text-align: right;\">\n",
       "      <th></th>\n",
       "      <th>DEPARTMENT</th>\n",
       "      <th>COURSE_NAME</th>\n",
       "      <th>UNITS</th>\n",
       "      <th>PREREQUISITES</th>\n",
       "      <th>COREQUISITES</th>\n",
       "      <th>CONCURRENT</th>\n",
       "      <th>RECOMMENDED</th>\n",
       "      <th>TERMS_TYPICALLY_OFFERED</th>\n",
       "      <th>GE_AREAS</th>\n",
       "    </tr>\n",
       "  </thead>\n",
       "  <tbody>\n",
       "    <tr>\n",
       "      <th>0</th>\n",
       "      <td>CSC</td>\n",
       "      <td>CSC 101. Fundamentals of Computer Science.</td>\n",
       "      <td>4</td>\n",
       "      <td>Appropriate,Math,Placement,Level;,or,MATH,117,...</td>\n",
       "      <td>NaN</td>\n",
       "      <td>NaN</td>\n",
       "      <td>NaN</td>\n",
       "      <td>F,,W,,SP</td>\n",
       "      <td>NaN</td>\n",
       "    </tr>\n",
       "    <tr>\n",
       "      <th>1</th>\n",
       "      <td>CSC</td>\n",
       "      <td>CSC 105. Fundamentals of Computer Science I Su...</td>\n",
       "      <td>1</td>\n",
       "      <td>NaN</td>\n",
       "      <td>NaN</td>\n",
       "      <td>CPE/CSC,101.</td>\n",
       "      <td>NaN</td>\n",
       "      <td>TBD</td>\n",
       "      <td>NaN</td>\n",
       "    </tr>\n",
       "    <tr>\n",
       "      <th>2</th>\n",
       "      <td>CSC</td>\n",
       "      <td>CSC 108. Accelerated Introduction to Computer ...</td>\n",
       "      <td>4</td>\n",
       "      <td>MATH,118,(or,equivalent),with,a,grade,of,C-,or...</td>\n",
       "      <td>NaN</td>\n",
       "      <td>NaN</td>\n",
       "      <td>NaN</td>\n",
       "      <td>TBD</td>\n",
       "      <td>NaN</td>\n",
       "    </tr>\n",
       "    <tr>\n",
       "      <th>3</th>\n",
       "      <td>CSC</td>\n",
       "      <td>CSC 123. Introduction to Computing.</td>\n",
       "      <td>4</td>\n",
       "      <td>Basic,computer,literacy.</td>\n",
       "      <td>NaN</td>\n",
       "      <td>NaN</td>\n",
       "      <td>NaN</td>\n",
       "      <td>F</td>\n",
       "      <td>NaN</td>\n",
       "    </tr>\n",
       "    <tr>\n",
       "      <th>4</th>\n",
       "      <td>CSC</td>\n",
       "      <td>CSC 171. Introduction to Interactive Entertain...</td>\n",
       "      <td>4</td>\n",
       "      <td>NaN</td>\n",
       "      <td>NaN</td>\n",
       "      <td>NaN</td>\n",
       "      <td>NaN</td>\n",
       "      <td>TBD</td>\n",
       "      <td>NaN</td>\n",
       "    </tr>\n",
       "  </tbody>\n",
       "</table>\n",
       "</div>"
      ],
      "text/plain": [
       "  DEPARTMENT                                        COURSE_NAME UNITS  \\\n",
       "0        CSC         CSC 101. Fundamentals of Computer Science.     4   \n",
       "1        CSC  CSC 105. Fundamentals of Computer Science I Su...     1   \n",
       "2        CSC  CSC 108. Accelerated Introduction to Computer ...     4   \n",
       "3        CSC                CSC 123. Introduction to Computing.     4   \n",
       "4        CSC  CSC 171. Introduction to Interactive Entertain...     4   \n",
       "\n",
       "                                       PREREQUISITES COREQUISITES  \\\n",
       "0  Appropriate,Math,Placement,Level;,or,MATH,117,...          NaN   \n",
       "1                                                NaN          NaN   \n",
       "2  MATH,118,(or,equivalent),with,a,grade,of,C-,or...          NaN   \n",
       "3                           Basic,computer,literacy.          NaN   \n",
       "4                                                NaN          NaN   \n",
       "\n",
       "     CONCURRENT RECOMMENDED TERMS_TYPICALLY_OFFERED GE_AREAS  \n",
       "0           NaN         NaN                F,,W,,SP      NaN  \n",
       "1  CPE/CSC,101.         NaN                     TBD      NaN  \n",
       "2           NaN         NaN                     TBD      NaN  \n",
       "3           NaN         NaN                       F      NaN  \n",
       "4           NaN         NaN                     TBD      NaN  "
      ]
     },
     "execution_count": 11,
     "metadata": {},
     "output_type": "execute_result"
    }
   ],
   "source": [
    "course_scraper_df.head()"
   ]
  },
  {
   "cell_type": "code",
   "execution_count": 12,
   "metadata": {},
   "outputs": [
    {
     "data": {
      "text/html": [
       "<div>\n",
       "<style scoped>\n",
       "    .dataframe tbody tr th:only-of-type {\n",
       "        vertical-align: middle;\n",
       "    }\n",
       "\n",
       "    .dataframe tbody tr th {\n",
       "        vertical-align: top;\n",
       "    }\n",
       "\n",
       "    .dataframe thead th {\n",
       "        text-align: right;\n",
       "    }\n",
       "</style>\n",
       "<table border=\"1\" class=\"dataframe\">\n",
       "  <thead>\n",
       "    <tr style=\"text-align: right;\">\n",
       "      <th></th>\n",
       "      <th>NAME</th>\n",
       "      <th>ALIAS</th>\n",
       "      <th>TITLE</th>\n",
       "      <th>PHONE</th>\n",
       "      <th>OFFICE</th>\n",
       "      <th>COURSE</th>\n",
       "      <th>TYPE</th>\n",
       "      <th>DAYS</th>\n",
       "      <th>START</th>\n",
       "      <th>END</th>\n",
       "      <th>LOCATION</th>\n",
       "      <th>DEPARTMENT</th>\n",
       "    </tr>\n",
       "  </thead>\n",
       "  <tbody>\n",
       "    <tr>\n",
       "      <th>0</th>\n",
       "      <td>Widmann, James M.</td>\n",
       "      <td>jwidmann</td>\n",
       "      <td>Dept Chair - Mechanical Eng</td>\n",
       "      <td>+1.805.756.1334</td>\n",
       "      <td>013-0254</td>\n",
       "      <td>ME 494_01</td>\n",
       "      <td>Ind</td>\n",
       "      <td>NaN</td>\n",
       "      <td>NaN</td>\n",
       "      <td>NaN</td>\n",
       "      <td>NaN</td>\n",
       "      <td>CENG-Mechanical Engineering</td>\n",
       "    </tr>\n",
       "    <tr>\n",
       "      <th>1</th>\n",
       "      <td>Widmann, James M.</td>\n",
       "      <td>jwidmann</td>\n",
       "      <td>Dept Chair - Mechanical Eng</td>\n",
       "      <td>+1.805.756.1334</td>\n",
       "      <td>013-0254</td>\n",
       "      <td>ME 500_01</td>\n",
       "      <td>Ind</td>\n",
       "      <td>NaN</td>\n",
       "      <td>NaN</td>\n",
       "      <td>NaN</td>\n",
       "      <td>NaN</td>\n",
       "      <td>CENG-Mechanical Engineering</td>\n",
       "    </tr>\n",
       "    <tr>\n",
       "      <th>2</th>\n",
       "      <td>Widmann, James M.</td>\n",
       "      <td>jwidmann</td>\n",
       "      <td>Dept Chair - Mechanical Eng</td>\n",
       "      <td>+1.805.756.1334</td>\n",
       "      <td>013-0254</td>\n",
       "      <td>ENGR 460_06</td>\n",
       "      <td>Lab</td>\n",
       "      <td>TR</td>\n",
       "      <td>12:10 PM</td>\n",
       "      <td>03:00 PM</td>\n",
       "      <td>192-0328</td>\n",
       "      <td>CENG-Mechanical Engineering</td>\n",
       "    </tr>\n",
       "    <tr>\n",
       "      <th>3</th>\n",
       "      <td>Widmann, James M.</td>\n",
       "      <td>jwidmann</td>\n",
       "      <td>Dept Chair - Mechanical Eng</td>\n",
       "      <td>+1.805.756.1334</td>\n",
       "      <td>013-0254</td>\n",
       "      <td>ME 493_01</td>\n",
       "      <td>Ind</td>\n",
       "      <td>NaN</td>\n",
       "      <td>NaN</td>\n",
       "      <td>NaN</td>\n",
       "      <td>NaN</td>\n",
       "      <td>CENG-Mechanical Engineering</td>\n",
       "    </tr>\n",
       "    <tr>\n",
       "      <th>4</th>\n",
       "      <td>Widmann, James M.</td>\n",
       "      <td>jwidmann</td>\n",
       "      <td>Dept Chair - Mechanical Eng</td>\n",
       "      <td>+1.805.756.1334</td>\n",
       "      <td>013-0254</td>\n",
       "      <td>ME 400_01</td>\n",
       "      <td>Ind</td>\n",
       "      <td>NaN</td>\n",
       "      <td>NaN</td>\n",
       "      <td>NaN</td>\n",
       "      <td>NaN</td>\n",
       "      <td>CENG-Mechanical Engineering</td>\n",
       "    </tr>\n",
       "  </tbody>\n",
       "</table>\n",
       "</div>"
      ],
      "text/plain": [
       "                NAME     ALIAS                        TITLE            PHONE  \\\n",
       "0  Widmann, James M.  jwidmann  Dept Chair - Mechanical Eng  +1.805.756.1334   \n",
       "1  Widmann, James M.  jwidmann  Dept Chair - Mechanical Eng  +1.805.756.1334   \n",
       "2  Widmann, James M.  jwidmann  Dept Chair - Mechanical Eng  +1.805.756.1334   \n",
       "3  Widmann, James M.  jwidmann  Dept Chair - Mechanical Eng  +1.805.756.1334   \n",
       "4  Widmann, James M.  jwidmann  Dept Chair - Mechanical Eng  +1.805.756.1334   \n",
       "\n",
       "     OFFICE       COURSE TYPE DAYS     START       END  LOCATION  \\\n",
       "0  013-0254    ME 494_01  Ind  NaN       NaN       NaN       NaN   \n",
       "1  013-0254    ME 500_01  Ind  NaN       NaN       NaN       NaN   \n",
       "2  013-0254  ENGR 460_06  Lab   TR  12:10 PM  03:00 PM  192-0328   \n",
       "3  013-0254    ME 493_01  Ind  NaN       NaN       NaN       NaN   \n",
       "4  013-0254    ME 400_01  Ind  NaN       NaN       NaN       NaN   \n",
       "\n",
       "                    DEPARTMENT  \n",
       "0  CENG-Mechanical Engineering  \n",
       "1  CENG-Mechanical Engineering  \n",
       "2  CENG-Mechanical Engineering  \n",
       "3  CENG-Mechanical Engineering  \n",
       "4  CENG-Mechanical Engineering  "
      ]
     },
     "execution_count": 12,
     "metadata": {},
     "output_type": "execute_result"
    }
   ],
   "source": [
    "schedules_scraper_df[['NAME', 'ALIAS', 'TITLE', 'PHONE', 'OFFICE', 'COURSE',\n",
    "       'TYPE', 'DAYS', 'START', 'END', 'LOCATION', 'DEPARTMENT']].head()"
   ]
  },
  {
   "cell_type": "code",
   "execution_count": 13,
   "metadata": {},
   "outputs": [
    {
     "data": {
      "text/html": [
       "<div>\n",
       "<style scoped>\n",
       "    .dataframe tbody tr th:only-of-type {\n",
       "        vertical-align: middle;\n",
       "    }\n",
       "\n",
       "    .dataframe tbody tr th {\n",
       "        vertical-align: top;\n",
       "    }\n",
       "\n",
       "    .dataframe thead th {\n",
       "        text-align: right;\n",
       "    }\n",
       "</style>\n",
       "<table border=\"1\" class=\"dataframe\">\n",
       "  <thead>\n",
       "    <tr style=\"text-align: right;\">\n",
       "      <th></th>\n",
       "      <th>BUILDING_NUMBER</th>\n",
       "      <th>NAME</th>\n",
       "      <th>LONGITUDE</th>\n",
       "      <th>LATITUDE</th>\n",
       "    </tr>\n",
       "  </thead>\n",
       "  <tbody>\n",
       "    <tr>\n",
       "      <th>0</th>\n",
       "      <td>1</td>\n",
       "      <td>Administration</td>\n",
       "      <td>-120.658561</td>\n",
       "      <td>35.300960</td>\n",
       "    </tr>\n",
       "    <tr>\n",
       "      <th>1</th>\n",
       "      <td>2</td>\n",
       "      <td>Cotchett Education</td>\n",
       "      <td>-120.664363</td>\n",
       "      <td>35.300245</td>\n",
       "    </tr>\n",
       "    <tr>\n",
       "      <th>2</th>\n",
       "      <td>3</td>\n",
       "      <td>Business</td>\n",
       "      <td>-120.664871</td>\n",
       "      <td>35.299889</td>\n",
       "    </tr>\n",
       "    <tr>\n",
       "      <th>3</th>\n",
       "      <td>4</td>\n",
       "      <td>Research Center</td>\n",
       "      <td>-120.664744</td>\n",
       "      <td>35.305560</td>\n",
       "    </tr>\n",
       "    <tr>\n",
       "      <th>4</th>\n",
       "      <td>5</td>\n",
       "      <td>Architecture &amp; E Des</td>\n",
       "      <td>-120.664396</td>\n",
       "      <td>35.300778</td>\n",
       "    </tr>\n",
       "  </tbody>\n",
       "</table>\n",
       "</div>"
      ],
      "text/plain": [
       "  BUILDING_NUMBER                  NAME   LONGITUDE   LATITUDE\n",
       "0               1        Administration -120.658561  35.300960\n",
       "1               2    Cotchett Education -120.664363  35.300245\n",
       "2               3              Business -120.664871  35.299889\n",
       "3               4       Research Center -120.664744  35.305560\n",
       "4               5  Architecture & E Des -120.664396  35.300778"
      ]
     },
     "execution_count": 13,
     "metadata": {},
     "output_type": "execute_result"
    }
   ],
   "source": [
    "location_scraper_df.head()"
   ]
  },
  {
   "cell_type": "code",
   "execution_count": 14,
   "metadata": {},
   "outputs": [
    {
     "data": {
      "text/html": [
       "<div>\n",
       "<style scoped>\n",
       "    .dataframe tbody tr th:only-of-type {\n",
       "        vertical-align: middle;\n",
       "    }\n",
       "\n",
       "    .dataframe tbody tr th {\n",
       "        vertical-align: top;\n",
       "    }\n",
       "\n",
       "    .dataframe thead th {\n",
       "        text-align: right;\n",
       "    }\n",
       "</style>\n",
       "<table border=\"1\" class=\"dataframe\">\n",
       "  <thead>\n",
       "    <tr style=\"text-align: right;\">\n",
       "      <th></th>\n",
       "      <th>NAME</th>\n",
       "      <th>OFFICE</th>\n",
       "      <th>EMAIL</th>\n",
       "      <th>PHONE</th>\n",
       "      <th>RESEARCH_INTERESTS</th>\n",
       "    </tr>\n",
       "  </thead>\n",
       "  <tbody>\n",
       "    <tr>\n",
       "      <th>0</th>\n",
       "      <td>Chris Lupo</td>\n",
       "      <td>14-254</td>\n",
       "      <td>clupo@calpoly.edu</td>\n",
       "      <td>805-756-5659</td>\n",
       "      <td>['Applied Parallel Computing', 'Computer Archi...</td>\n",
       "    </tr>\n",
       "    <tr>\n",
       "      <th>1</th>\n",
       "      <td>Paul Anderson</td>\n",
       "      <td>14-222</td>\n",
       "      <td>pander14@calpoly.edu</td>\n",
       "      <td>NaN</td>\n",
       "      <td>['Bioinformatics', 'Data Science', 'Genomics',...</td>\n",
       "    </tr>\n",
       "    <tr>\n",
       "      <th>2</th>\n",
       "      <td>Hisham Assal</td>\n",
       "      <td>14-240</td>\n",
       "      <td>hhassal@calpoly.edu</td>\n",
       "      <td>805-756-1330</td>\n",
       "      <td>NaN</td>\n",
       "    </tr>\n",
       "    <tr>\n",
       "      <th>3</th>\n",
       "      <td>John Bellardo</td>\n",
       "      <td>14-235D</td>\n",
       "      <td>bellardo@calpoly.edu</td>\n",
       "      <td>805-756-7256</td>\n",
       "      <td>['Distributed Systems', 'Networks', 'Operating...</td>\n",
       "    </tr>\n",
       "    <tr>\n",
       "      <th>4</th>\n",
       "      <td>John Clements</td>\n",
       "      <td>14-208</td>\n",
       "      <td>clements@calpoly.edu</td>\n",
       "      <td>805-756-6528</td>\n",
       "      <td>['Computational Finance', 'Computer Music', 'D...</td>\n",
       "    </tr>\n",
       "  </tbody>\n",
       "</table>\n",
       "</div>"
      ],
      "text/plain": [
       "            NAME   OFFICE                 EMAIL         PHONE  \\\n",
       "0     Chris Lupo   14-254     clupo@calpoly.edu  805-756-5659   \n",
       "1  Paul Anderson   14-222  pander14@calpoly.edu           NaN   \n",
       "2   Hisham Assal   14-240   hhassal@calpoly.edu  805-756-1330   \n",
       "3  John Bellardo  14-235D  bellardo@calpoly.edu  805-756-7256   \n",
       "4  John Clements   14-208  clements@calpoly.edu  805-756-6528   \n",
       "\n",
       "                                  RESEARCH_INTERESTS  \n",
       "0  ['Applied Parallel Computing', 'Computer Archi...  \n",
       "1  ['Bioinformatics', 'Data Science', 'Genomics',...  \n",
       "2                                                NaN  \n",
       "3  ['Distributed Systems', 'Networks', 'Operating...  \n",
       "4  ['Computational Finance', 'Computer Music', 'D...  "
      ]
     },
     "execution_count": 14,
     "metadata": {},
     "output_type": "execute_result"
    }
   ],
   "source": [
    "faculty_scraper_df.head()"
   ]
  },
  {
   "cell_type": "markdown",
   "metadata": {},
   "source": [
    "# Save CSV files"
   ]
  },
  {
   "cell_type": "code",
   "execution_count": 15,
   "metadata": {},
   "outputs": [
    {
     "name": "stdout",
     "output_type": "stream",
     "text": [
      "saving... ../docs/calendar_data.csv...\n",
      "saving... ../docs/club_scraper.csv...\n",
      "saving... ../docs/course_scraper.csv...\n",
      "saving... ../docs/schedules_scraper.csv...\n",
      "saving... ../docs/location_scraper.csv...\n",
      "saving... ../docs/faculty_scraper.csv...\n"
     ]
    }
   ],
   "source": [
    "for d in dataframes:\n",
    "    csv_file_path = os.path.join(DOCS_PATH, f\"{d}.csv\")\n",
    "    df = dataframes[d]\n",
    "    print(f\"saving... {csv_file_path}...\")\n",
    "    df.to_csv(csv_file_path)"
   ]
  },
  {
   "cell_type": "markdown",
   "metadata": {},
   "source": [
    "# Generate Pandas Profiling Report"
   ]
  },
  {
   "cell_type": "code",
   "execution_count": 16,
   "metadata": {},
   "outputs": [
    {
     "name": "stdout",
     "output_type": "stream",
     "text": [
      "running... Pandas Profiling Report for ../docs/calendar_data.csv...\n"
     ]
    },
    {
     "data": {
      "application/vnd.jupyter.widget-view+json": {
       "model_id": "1ee9bb937c3c4e218e869038cd6e3e6e",
       "version_major": 2,
       "version_minor": 0
      },
      "text/plain": [
       "HBox(children=(FloatProgress(value=0.0, description='variables', max=5.0, style=ProgressStyle(description_widt…"
      ]
     },
     "metadata": {},
     "output_type": "display_data"
    },
    {
     "name": "stdout",
     "output_type": "stream",
     "text": [
      "\n"
     ]
    },
    {
     "data": {
      "application/vnd.jupyter.widget-view+json": {
       "model_id": "279a02fcf66c4e719ad50fd8eee3c62e",
       "version_major": 2,
       "version_minor": 0
      },
      "text/plain": [
       "HBox(children=(FloatProgress(value=0.0, description='correlations', max=6.0, style=ProgressStyle(description_w…"
      ]
     },
     "metadata": {},
     "output_type": "display_data"
    },
    {
     "name": "stdout",
     "output_type": "stream",
     "text": [
      "\n"
     ]
    },
    {
     "data": {
      "application/vnd.jupyter.widget-view+json": {
       "model_id": "b8ef1ff7afca4af38aa26584c2dd9688",
       "version_major": 2,
       "version_minor": 0
      },
      "text/plain": [
       "HBox(children=(FloatProgress(value=0.0, description='interactions [continuous]', max=1.0, style=ProgressStyle(…"
      ]
     },
     "metadata": {},
     "output_type": "display_data"
    },
    {
     "name": "stdout",
     "output_type": "stream",
     "text": [
      "\n"
     ]
    },
    {
     "data": {
      "application/vnd.jupyter.widget-view+json": {
       "model_id": "fde0c87f5e40402c958f8a42fe3b66fd",
       "version_major": 2,
       "version_minor": 0
      },
      "text/plain": [
       "HBox(children=(FloatProgress(value=0.0, description='table', max=1.0, style=ProgressStyle(description_width='i…"
      ]
     },
     "metadata": {},
     "output_type": "display_data"
    },
    {
     "name": "stdout",
     "output_type": "stream",
     "text": [
      "\n"
     ]
    },
    {
     "data": {
      "application/vnd.jupyter.widget-view+json": {
       "model_id": "1e20201e72314938bcce15b06c4fb4c3",
       "version_major": 2,
       "version_minor": 0
      },
      "text/plain": [
       "HBox(children=(FloatProgress(value=0.0, description='missing', max=2.0, style=ProgressStyle(description_width=…"
      ]
     },
     "metadata": {},
     "output_type": "display_data"
    },
    {
     "name": "stdout",
     "output_type": "stream",
     "text": [
      "\n"
     ]
    },
    {
     "data": {
      "application/vnd.jupyter.widget-view+json": {
       "model_id": "275a181725f344da809f8dbb2a7ff22a",
       "version_major": 2,
       "version_minor": 0
      },
      "text/plain": [
       "HBox(children=(FloatProgress(value=0.0, description='warnings', max=3.0, style=ProgressStyle(description_width…"
      ]
     },
     "metadata": {},
     "output_type": "display_data"
    },
    {
     "name": "stdout",
     "output_type": "stream",
     "text": [
      "\n"
     ]
    },
    {
     "data": {
      "application/vnd.jupyter.widget-view+json": {
       "model_id": "661c82f9eff746c281ea8176d7450f1b",
       "version_major": 2,
       "version_minor": 0
      },
      "text/plain": [
       "HBox(children=(FloatProgress(value=0.0, description='package', max=1.0, style=ProgressStyle(description_width=…"
      ]
     },
     "metadata": {},
     "output_type": "display_data"
    },
    {
     "name": "stdout",
     "output_type": "stream",
     "text": [
      "\n"
     ]
    },
    {
     "data": {
      "application/vnd.jupyter.widget-view+json": {
       "model_id": "a56c642883d54235bf70b21c2c161e19",
       "version_major": 2,
       "version_minor": 0
      },
      "text/plain": [
       "HBox(children=(FloatProgress(value=0.0, description='build report structure', max=1.0, style=ProgressStyle(des…"
      ]
     },
     "metadata": {},
     "output_type": "display_data"
    },
    {
     "name": "stdout",
     "output_type": "stream",
     "text": [
      "\n",
      "finished and created: ../docs/calendar_data.html\n",
      "\n",
      "\n",
      "\n",
      "running... Pandas Profiling Report for ../docs/club_scraper.csv...\n"
     ]
    },
    {
     "data": {
      "application/vnd.jupyter.widget-view+json": {
       "model_id": "1ad43a2706724ec09e2aa27eedb93965",
       "version_major": 2,
       "version_minor": 0
      },
      "text/plain": [
       "HBox(children=(FloatProgress(value=0.0, description='variables', max=12.0, style=ProgressStyle(description_wid…"
      ]
     },
     "metadata": {},
     "output_type": "display_data"
    },
    {
     "name": "stdout",
     "output_type": "stream",
     "text": [
      "\n"
     ]
    },
    {
     "data": {
      "application/vnd.jupyter.widget-view+json": {
       "model_id": "a18683df60b84b74bad0b1d7778cbef2",
       "version_major": 2,
       "version_minor": 0
      },
      "text/plain": [
       "HBox(children=(FloatProgress(value=0.0, description='correlations', max=6.0, style=ProgressStyle(description_w…"
      ]
     },
     "metadata": {},
     "output_type": "display_data"
    },
    {
     "name": "stdout",
     "output_type": "stream",
     "text": [
      "\n"
     ]
    },
    {
     "data": {
      "application/vnd.jupyter.widget-view+json": {
       "model_id": "c730f4b78bdf4d00a782f1873be79250",
       "version_major": 2,
       "version_minor": 0
      },
      "text/plain": [
       "HBox(children=(FloatProgress(value=0.0, description='interactions [continuous]', max=9.0, style=ProgressStyle(…"
      ]
     },
     "metadata": {},
     "output_type": "display_data"
    },
    {
     "name": "stdout",
     "output_type": "stream",
     "text": [
      "\n"
     ]
    },
    {
     "data": {
      "application/vnd.jupyter.widget-view+json": {
       "model_id": "9cde5da771394a57ba241b1d4692b930",
       "version_major": 2,
       "version_minor": 0
      },
      "text/plain": [
       "HBox(children=(FloatProgress(value=0.0, description='table', max=1.0, style=ProgressStyle(description_width='i…"
      ]
     },
     "metadata": {},
     "output_type": "display_data"
    },
    {
     "name": "stdout",
     "output_type": "stream",
     "text": [
      "\n"
     ]
    },
    {
     "data": {
      "application/vnd.jupyter.widget-view+json": {
       "model_id": "6c206ae640a04dee9e38c939f686ce25",
       "version_major": 2,
       "version_minor": 0
      },
      "text/plain": [
       "HBox(children=(FloatProgress(value=0.0, description='missing', max=4.0, style=ProgressStyle(description_width=…"
      ]
     },
     "metadata": {},
     "output_type": "display_data"
    },
    {
     "name": "stdout",
     "output_type": "stream",
     "text": [
      "\n"
     ]
    },
    {
     "data": {
      "application/vnd.jupyter.widget-view+json": {
       "model_id": "994676b5f6e4469ab03979ff976a352c",
       "version_major": 2,
       "version_minor": 0
      },
      "text/plain": [
       "HBox(children=(FloatProgress(value=0.0, description='warnings', max=3.0, style=ProgressStyle(description_width…"
      ]
     },
     "metadata": {},
     "output_type": "display_data"
    },
    {
     "name": "stdout",
     "output_type": "stream",
     "text": [
      "\n"
     ]
    },
    {
     "data": {
      "application/vnd.jupyter.widget-view+json": {
       "model_id": "344a408b42d549d09fa688d2b221bab6",
       "version_major": 2,
       "version_minor": 0
      },
      "text/plain": [
       "HBox(children=(FloatProgress(value=0.0, description='package', max=1.0, style=ProgressStyle(description_width=…"
      ]
     },
     "metadata": {},
     "output_type": "display_data"
    },
    {
     "name": "stdout",
     "output_type": "stream",
     "text": [
      "\n"
     ]
    },
    {
     "data": {
      "application/vnd.jupyter.widget-view+json": {
       "model_id": "779525c1bb5947ea9c63eef685cb472e",
       "version_major": 2,
       "version_minor": 0
      },
      "text/plain": [
       "HBox(children=(FloatProgress(value=0.0, description='build report structure', max=1.0, style=ProgressStyle(des…"
      ]
     },
     "metadata": {},
     "output_type": "display_data"
    },
    {
     "name": "stdout",
     "output_type": "stream",
     "text": [
      "\n",
      "finished and created: ../docs/club_scraper.html\n",
      "\n",
      "\n",
      "\n",
      "running... Pandas Profiling Report for ../docs/course_scraper.csv...\n"
     ]
    },
    {
     "data": {
      "application/vnd.jupyter.widget-view+json": {
       "model_id": "421532aec12c4e5687568b0490d7991f",
       "version_major": 2,
       "version_minor": 0
      },
      "text/plain": [
       "HBox(children=(FloatProgress(value=0.0, description='variables', max=9.0, style=ProgressStyle(description_widt…"
      ]
     },
     "metadata": {},
     "output_type": "display_data"
    },
    {
     "name": "stdout",
     "output_type": "stream",
     "text": [
      "\n"
     ]
    },
    {
     "data": {
      "application/vnd.jupyter.widget-view+json": {
       "model_id": "13dc270961e44bcb930b8372202d9ea7",
       "version_major": 2,
       "version_minor": 0
      },
      "text/plain": [
       "HBox(children=(FloatProgress(value=0.0, description='correlations', max=6.0, style=ProgressStyle(description_w…"
      ]
     },
     "metadata": {},
     "output_type": "display_data"
    },
    {
     "name": "stdout",
     "output_type": "stream",
     "text": [
      "\n"
     ]
    },
    {
     "data": {
      "application/vnd.jupyter.widget-view+json": {
       "model_id": "c0ee293fcf964fd4be16f7e13314138b",
       "version_major": 2,
       "version_minor": 0
      },
      "text/plain": [
       "HBox(children=(FloatProgress(value=1.0, bar_style='info', description='interactions [continuous]', max=1.0, st…"
      ]
     },
     "metadata": {},
     "output_type": "display_data"
    },
    {
     "name": "stdout",
     "output_type": "stream",
     "text": [
      "\n"
     ]
    },
    {
     "data": {
      "application/vnd.jupyter.widget-view+json": {
       "model_id": "a194e4f00d2e44748926dfdb54e2c07b",
       "version_major": 2,
       "version_minor": 0
      },
      "text/plain": [
       "HBox(children=(FloatProgress(value=0.0, description='table', max=1.0, style=ProgressStyle(description_width='i…"
      ]
     },
     "metadata": {},
     "output_type": "display_data"
    },
    {
     "name": "stdout",
     "output_type": "stream",
     "text": [
      "\n"
     ]
    },
    {
     "data": {
      "application/vnd.jupyter.widget-view+json": {
       "model_id": "64f2f0ddd04c47cf9db91330f0db5825",
       "version_major": 2,
       "version_minor": 0
      },
      "text/plain": [
       "HBox(children=(FloatProgress(value=0.0, description='missing', max=4.0, style=ProgressStyle(description_width=…"
      ]
     },
     "metadata": {},
     "output_type": "display_data"
    },
    {
     "name": "stdout",
     "output_type": "stream",
     "text": [
      "\n"
     ]
    },
    {
     "data": {
      "application/vnd.jupyter.widget-view+json": {
       "model_id": "b225defd2e1e4ec5b90c5dfe71e22bb1",
       "version_major": 2,
       "version_minor": 0
      },
      "text/plain": [
       "HBox(children=(FloatProgress(value=0.0, description='warnings', max=3.0, style=ProgressStyle(description_width…"
      ]
     },
     "metadata": {},
     "output_type": "display_data"
    },
    {
     "name": "stdout",
     "output_type": "stream",
     "text": [
      "\n"
     ]
    },
    {
     "data": {
      "application/vnd.jupyter.widget-view+json": {
       "model_id": "6058d94ae87b46dd8caaaf6da2e24edc",
       "version_major": 2,
       "version_minor": 0
      },
      "text/plain": [
       "HBox(children=(FloatProgress(value=0.0, description='package', max=1.0, style=ProgressStyle(description_width=…"
      ]
     },
     "metadata": {},
     "output_type": "display_data"
    },
    {
     "name": "stdout",
     "output_type": "stream",
     "text": [
      "\n"
     ]
    },
    {
     "data": {
      "application/vnd.jupyter.widget-view+json": {
       "model_id": "6cfaa641c9af4ffc85148b7d06a05f24",
       "version_major": 2,
       "version_minor": 0
      },
      "text/plain": [
       "HBox(children=(FloatProgress(value=0.0, description='build report structure', max=1.0, style=ProgressStyle(des…"
      ]
     },
     "metadata": {},
     "output_type": "display_data"
    },
    {
     "name": "stdout",
     "output_type": "stream",
     "text": [
      "\n",
      "finished and created: ../docs/course_scraper.html\n",
      "\n",
      "\n",
      "\n",
      "running... Pandas Profiling Report for ../docs/schedules_scraper.csv...\n"
     ]
    },
    {
     "data": {
      "application/vnd.jupyter.widget-view+json": {
       "model_id": "b28f88f9c647463bb561fcc7cfcf57d1",
       "version_major": 2,
       "version_minor": 0
      },
      "text/plain": [
       "HBox(children=(FloatProgress(value=0.0, description='variables', max=13.0, style=ProgressStyle(description_wid…"
      ]
     },
     "metadata": {},
     "output_type": "display_data"
    },
    {
     "name": "stdout",
     "output_type": "stream",
     "text": [
      "\n"
     ]
    },
    {
     "data": {
      "application/vnd.jupyter.widget-view+json": {
       "model_id": "a1554c4bab134c039bfd0bdc4a4c11a3",
       "version_major": 2,
       "version_minor": 0
      },
      "text/plain": [
       "HBox(children=(FloatProgress(value=0.0, description='correlations', max=6.0, style=ProgressStyle(description_w…"
      ]
     },
     "metadata": {},
     "output_type": "display_data"
    },
    {
     "name": "stdout",
     "output_type": "stream",
     "text": [
      "\n"
     ]
    },
    {
     "data": {
      "application/vnd.jupyter.widget-view+json": {
       "model_id": "986154770cf649beb3bd47cbd55b305c",
       "version_major": 2,
       "version_minor": 0
      },
      "text/plain": [
       "HBox(children=(FloatProgress(value=0.0, description='interactions [continuous]', max=1.0, style=ProgressStyle(…"
      ]
     },
     "metadata": {},
     "output_type": "display_data"
    },
    {
     "name": "stdout",
     "output_type": "stream",
     "text": [
      "\n"
     ]
    },
    {
     "data": {
      "application/vnd.jupyter.widget-view+json": {
       "model_id": "7e489c57a1d8456dabec4816bd2233fb",
       "version_major": 2,
       "version_minor": 0
      },
      "text/plain": [
       "HBox(children=(FloatProgress(value=0.0, description='table', max=1.0, style=ProgressStyle(description_width='i…"
      ]
     },
     "metadata": {},
     "output_type": "display_data"
    },
    {
     "name": "stdout",
     "output_type": "stream",
     "text": [
      "\n"
     ]
    },
    {
     "data": {
      "application/vnd.jupyter.widget-view+json": {
       "model_id": "98c3a1b79b1145a38a85d545662e6ae8",
       "version_major": 2,
       "version_minor": 0
      },
      "text/plain": [
       "HBox(children=(FloatProgress(value=0.0, description='missing', max=4.0, style=ProgressStyle(description_width=…"
      ]
     },
     "metadata": {},
     "output_type": "display_data"
    },
    {
     "name": "stdout",
     "output_type": "stream",
     "text": [
      "\n"
     ]
    },
    {
     "data": {
      "application/vnd.jupyter.widget-view+json": {
       "model_id": "de7242bffa8e49a5a320c2a918ca601c",
       "version_major": 2,
       "version_minor": 0
      },
      "text/plain": [
       "HBox(children=(FloatProgress(value=0.0, description='warnings', max=3.0, style=ProgressStyle(description_width…"
      ]
     },
     "metadata": {},
     "output_type": "display_data"
    },
    {
     "name": "stdout",
     "output_type": "stream",
     "text": [
      "\n"
     ]
    },
    {
     "data": {
      "application/vnd.jupyter.widget-view+json": {
       "model_id": "c12913dfa847421eac70bea8ceac9f33",
       "version_major": 2,
       "version_minor": 0
      },
      "text/plain": [
       "HBox(children=(FloatProgress(value=0.0, description='package', max=1.0, style=ProgressStyle(description_width=…"
      ]
     },
     "metadata": {},
     "output_type": "display_data"
    },
    {
     "name": "stdout",
     "output_type": "stream",
     "text": [
      "\n"
     ]
    },
    {
     "data": {
      "application/vnd.jupyter.widget-view+json": {
       "model_id": "8df585db013447ae88a37481f1558e9f",
       "version_major": 2,
       "version_minor": 0
      },
      "text/plain": [
       "HBox(children=(FloatProgress(value=0.0, description='build report structure', max=1.0, style=ProgressStyle(des…"
      ]
     },
     "metadata": {},
     "output_type": "display_data"
    },
    {
     "name": "stdout",
     "output_type": "stream",
     "text": [
      "\n",
      "finished and created: ../docs/schedules_scraper.html\n",
      "\n",
      "\n",
      "\n",
      "running... Pandas Profiling Report for ../docs/location_scraper.csv...\n"
     ]
    },
    {
     "data": {
      "application/vnd.jupyter.widget-view+json": {
       "model_id": "eadd8db91616479daac6e4022ecc3ced",
       "version_major": 2,
       "version_minor": 0
      },
      "text/plain": [
       "HBox(children=(FloatProgress(value=0.0, description='variables', max=4.0, style=ProgressStyle(description_widt…"
      ]
     },
     "metadata": {},
     "output_type": "display_data"
    },
    {
     "name": "stdout",
     "output_type": "stream",
     "text": [
      "\n"
     ]
    },
    {
     "data": {
      "application/vnd.jupyter.widget-view+json": {
       "model_id": "b5de7d9b1d4748538f49b237b48f309b",
       "version_major": 2,
       "version_minor": 0
      },
      "text/plain": [
       "HBox(children=(FloatProgress(value=0.0, description='correlations', max=6.0, style=ProgressStyle(description_w…"
      ]
     },
     "metadata": {},
     "output_type": "display_data"
    },
    {
     "name": "stdout",
     "output_type": "stream",
     "text": [
      "\n"
     ]
    },
    {
     "data": {
      "application/vnd.jupyter.widget-view+json": {
       "model_id": "4f3414c307b94060a6c4bc38c70e87cd",
       "version_major": 2,
       "version_minor": 0
      },
      "text/plain": [
       "HBox(children=(FloatProgress(value=0.0, description='interactions [continuous]', max=4.0, style=ProgressStyle(…"
      ]
     },
     "metadata": {},
     "output_type": "display_data"
    },
    {
     "name": "stdout",
     "output_type": "stream",
     "text": [
      "\n"
     ]
    },
    {
     "data": {
      "application/vnd.jupyter.widget-view+json": {
       "model_id": "dda5eb1049e04c488b2ace2d356f75fc",
       "version_major": 2,
       "version_minor": 0
      },
      "text/plain": [
       "HBox(children=(FloatProgress(value=0.0, description='table', max=1.0, style=ProgressStyle(description_width='i…"
      ]
     },
     "metadata": {},
     "output_type": "display_data"
    },
    {
     "name": "stdout",
     "output_type": "stream",
     "text": [
      "\n"
     ]
    },
    {
     "data": {
      "application/vnd.jupyter.widget-view+json": {
       "model_id": "7a123ead603a45859455963c2ba1afc9",
       "version_major": 2,
       "version_minor": 0
      },
      "text/plain": [
       "HBox(children=(FloatProgress(value=0.0, description='missing', max=3.0, style=ProgressStyle(description_width=…"
      ]
     },
     "metadata": {},
     "output_type": "display_data"
    },
    {
     "name": "stdout",
     "output_type": "stream",
     "text": [
      "\n"
     ]
    },
    {
     "data": {
      "application/vnd.jupyter.widget-view+json": {
       "model_id": "9e449ea6a10f48db858969e8ce1152e3",
       "version_major": 2,
       "version_minor": 0
      },
      "text/plain": [
       "HBox(children=(FloatProgress(value=0.0, description='warnings', max=3.0, style=ProgressStyle(description_width…"
      ]
     },
     "metadata": {},
     "output_type": "display_data"
    },
    {
     "name": "stdout",
     "output_type": "stream",
     "text": [
      "\n"
     ]
    },
    {
     "data": {
      "application/vnd.jupyter.widget-view+json": {
       "model_id": "45fbe17c85e6424eab34fb7be5d06ef6",
       "version_major": 2,
       "version_minor": 0
      },
      "text/plain": [
       "HBox(children=(FloatProgress(value=0.0, description='package', max=1.0, style=ProgressStyle(description_width=…"
      ]
     },
     "metadata": {},
     "output_type": "display_data"
    },
    {
     "name": "stdout",
     "output_type": "stream",
     "text": [
      "\n"
     ]
    },
    {
     "data": {
      "application/vnd.jupyter.widget-view+json": {
       "model_id": "26940b96ebc04817a79da8be3f11694f",
       "version_major": 2,
       "version_minor": 0
      },
      "text/plain": [
       "HBox(children=(FloatProgress(value=0.0, description='build report structure', max=1.0, style=ProgressStyle(des…"
      ]
     },
     "metadata": {},
     "output_type": "display_data"
    },
    {
     "name": "stdout",
     "output_type": "stream",
     "text": [
      "\n",
      "finished and created: ../docs/location_scraper.html\n",
      "\n",
      "\n",
      "\n",
      "running... Pandas Profiling Report for ../docs/faculty_scraper.csv...\n"
     ]
    },
    {
     "data": {
      "application/vnd.jupyter.widget-view+json": {
       "model_id": "86ae570037bd4f8db83a45c7e13c5015",
       "version_major": 2,
       "version_minor": 0
      },
      "text/plain": [
       "HBox(children=(FloatProgress(value=0.0, description='variables', max=5.0, style=ProgressStyle(description_widt…"
      ]
     },
     "metadata": {},
     "output_type": "display_data"
    },
    {
     "name": "stdout",
     "output_type": "stream",
     "text": [
      "\n"
     ]
    },
    {
     "data": {
      "application/vnd.jupyter.widget-view+json": {
       "model_id": "9119f5c6e7fd49a085897e610c095a2e",
       "version_major": 2,
       "version_minor": 0
      },
      "text/plain": [
       "HBox(children=(FloatProgress(value=0.0, description='correlations', max=6.0, style=ProgressStyle(description_w…"
      ]
     },
     "metadata": {},
     "output_type": "display_data"
    },
    {
     "name": "stdout",
     "output_type": "stream",
     "text": [
      "\n"
     ]
    },
    {
     "data": {
      "application/vnd.jupyter.widget-view+json": {
       "model_id": "83e43274913b4bee945e337f9092b046",
       "version_major": 2,
       "version_minor": 0
      },
      "text/plain": [
       "HBox(children=(FloatProgress(value=1.0, bar_style='info', description='interactions [continuous]', max=1.0, st…"
      ]
     },
     "metadata": {},
     "output_type": "display_data"
    },
    {
     "name": "stdout",
     "output_type": "stream",
     "text": [
      "\n"
     ]
    },
    {
     "data": {
      "application/vnd.jupyter.widget-view+json": {
       "model_id": "579f44e1d9564442a1163306c52a3327",
       "version_major": 2,
       "version_minor": 0
      },
      "text/plain": [
       "HBox(children=(FloatProgress(value=0.0, description='table', max=1.0, style=ProgressStyle(description_width='i…"
      ]
     },
     "metadata": {},
     "output_type": "display_data"
    },
    {
     "name": "stdout",
     "output_type": "stream",
     "text": [
      "\n"
     ]
    },
    {
     "data": {
      "application/vnd.jupyter.widget-view+json": {
       "model_id": "da7be99f81554825937949960aa08046",
       "version_major": 2,
       "version_minor": 0
      },
      "text/plain": [
       "HBox(children=(FloatProgress(value=0.0, description='missing', max=4.0, style=ProgressStyle(description_width=…"
      ]
     },
     "metadata": {},
     "output_type": "display_data"
    },
    {
     "name": "stdout",
     "output_type": "stream",
     "text": [
      "\n"
     ]
    },
    {
     "data": {
      "application/vnd.jupyter.widget-view+json": {
       "model_id": "c14bccb883bf45abbc4c6e9dd4abe992",
       "version_major": 2,
       "version_minor": 0
      },
      "text/plain": [
       "HBox(children=(FloatProgress(value=0.0, description='warnings', max=3.0, style=ProgressStyle(description_width…"
      ]
     },
     "metadata": {},
     "output_type": "display_data"
    },
    {
     "name": "stdout",
     "output_type": "stream",
     "text": [
      "\n"
     ]
    },
    {
     "data": {
      "application/vnd.jupyter.widget-view+json": {
       "model_id": "1aefde7bccde4068b30c5b0733c06659",
       "version_major": 2,
       "version_minor": 0
      },
      "text/plain": [
       "HBox(children=(FloatProgress(value=0.0, description='package', max=1.0, style=ProgressStyle(description_width=…"
      ]
     },
     "metadata": {},
     "output_type": "display_data"
    },
    {
     "name": "stdout",
     "output_type": "stream",
     "text": [
      "\n"
     ]
    },
    {
     "data": {
      "application/vnd.jupyter.widget-view+json": {
       "model_id": "949afb2221d14afdbf27147e5e131cc6",
       "version_major": 2,
       "version_minor": 0
      },
      "text/plain": [
       "HBox(children=(FloatProgress(value=0.0, description='build report structure', max=1.0, style=ProgressStyle(des…"
      ]
     },
     "metadata": {},
     "output_type": "display_data"
    },
    {
     "name": "stdout",
     "output_type": "stream",
     "text": [
      "\n",
      "finished and created: ../docs/faculty_scraper.html\n",
      "\n",
      "\n",
      "\n"
     ]
    }
   ],
   "source": [
    "formatted_index_html_list = []\n",
    "\n",
    "for d in dataframes:\n",
    "    csv_file_path = os.path.join(DOCS_PATH, f\"{d}.csv\")\n",
    "    html_file_path = os.path.join(DOCS_PATH, f\"{d}.html\")\n",
    "    formatted_index_html_list.append(f\"<h1><a href=\\\"{html_file_path}\\\">{html_file_path}</a></h1>\")\n",
    "    title = f\"Pandas Profiling Report for {csv_file_path}\"\n",
    "    print(f\"running... {title}...\")\n",
    "    df = dataframes[d]\n",
    "    pandas_profiling.ProfileReport(df, title=title).to_file(html_file_path)\n",
    "    print(f\"finished and created: {html_file_path}\\n\\n\\n\")"
   ]
  },
  {
   "cell_type": "markdown",
   "metadata": {},
   "source": [
    "# Generate `index.html` to quickly access each Pandas Profiling Report html"
   ]
  },
  {
   "cell_type": "code",
   "execution_count": 17,
   "metadata": {},
   "outputs": [
    {
     "name": "stdout",
     "output_type": "stream",
     "text": [
      "creating... ../docs/index.html\n",
      "generated the following HTML into ../docs/index.html\n",
      "\n",
      "<h1><a href=\"../docs/calendar_data.html\">../docs/calendar_data.html</a></h1>\n",
      "<h1><a href=\"../docs/club_scraper.html\">../docs/club_scraper.html</a></h1>\n",
      "<h1><a href=\"../docs/course_scraper.html\">../docs/course_scraper.html</a></h1>\n",
      "<h1><a href=\"../docs/schedules_scraper.html\">../docs/schedules_scraper.html</a></h1>\n",
      "<h1><a href=\"../docs/location_scraper.html\">../docs/location_scraper.html</a></h1>\n",
      "<h1><a href=\"../docs/faculty_scraper.html\">../docs/faculty_scraper.html</a></h1>\n"
     ]
    }
   ],
   "source": [
    "print(f\"creating... {INDEX_HTML_FILE_PATH}\")\n",
    "\n",
    "index_html_content = \"\\n\".join(formatted_index_html_list)\n",
    "\n",
    "with open(INDEX_HTML_FILE_PATH, \"w\") as f:\n",
    "    f.write(index_html_content)\n",
    "\n",
    "print(f\"generated the following HTML into {INDEX_HTML_FILE_PATH}\\n\")\n",
    "print(index_html_content)"
   ]
  },
  {
   "cell_type": "code",
   "execution_count": null,
   "metadata": {},
   "outputs": [],
   "source": []
  }
 ],
 "metadata": {
  "kernelspec": {
   "display_name": "Python 3",
   "language": "python",
   "name": "python3"
  },
  "language_info": {
   "codemirror_mode": {
    "name": "ipython",
    "version": 3
   },
   "file_extension": ".py",
   "mimetype": "text/x-python",
   "name": "python",
   "nbconvert_exporter": "python",
   "pygments_lexer": "ipython3",
   "version": "3.6.8"
  }
 },
 "nbformat": 4,
 "nbformat_minor": 4
}
